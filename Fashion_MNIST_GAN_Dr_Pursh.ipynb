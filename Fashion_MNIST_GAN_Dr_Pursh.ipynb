{
  "nbformat": 4,
  "nbformat_minor": 0,
  "metadata": {
    "colab": {
      "name": "Fashion-MNIST-GAN- Dr Pursh",
      "provenance": [],
      "collapsed_sections": [],
      "include_colab_link": true
    },
    "kernelspec": {
      "name": "python3",
      "display_name": "Python 3"
    },
    "accelerator": "GPU"
  },
  "cells": [
    {
      "cell_type": "markdown",
      "metadata": {
        "id": "view-in-github",
        "colab_type": "text"
      },
      "source": [
        "<a href=\"https://colab.research.google.com/github/pursh2002/Machine-learning-with-team-sept-2019..-Dr-Purshottam/blob/master/Fashion_MNIST_GAN_Dr_Pursh.ipynb\" target=\"_parent\"><img src=\"https://colab.research.google.com/assets/colab-badge.svg\" alt=\"Open In Colab\"/></a>"
      ]
    },
    {
      "cell_type": "code",
      "metadata": {
        "id": "RB4LbeKK_gC4",
        "colab_type": "code",
        "colab": {
          "base_uri": "https://localhost:8080/",
          "height": 34
        },
        "outputId": "4397687e-c54b-4257-b379-378688fa1793"
      },
      "source": [
        "cd "
      ],
      "execution_count": 58,
      "outputs": [
        {
          "output_type": "stream",
          "text": [
            "/root\n"
          ],
          "name": "stdout"
        }
      ]
    },
    {
      "cell_type": "code",
      "metadata": {
        "id": "3OwF33Mz_lD0",
        "colab_type": "code",
        "colab": {
          "base_uri": "https://localhost:8080/",
          "height": 765
        },
        "outputId": "8390552b-7a44-4324-f040-686515db7184"
      },
      "source": [
        "!wget http://fashion-mnist.s3-website.eu-central-1.amazonaws.com/train-images-idx3-ubyte.gz\n",
        "!wget http://fashion-mnist.s3-website.eu-central-1.amazonaws.com/train-labels-idx1-ubyte.gz\n",
        "!wget http://fashion-mnist.s3-website.eu-central-1.amazonaws.com/t10k-images-idx3-ubyte.gz\n",
        "!wget http://fashion-mnist.s3-website.eu-central-1.amazonaws.com/t10k-labels-idx1-ubyte.gz"
      ],
      "execution_count": 59,
      "outputs": [
        {
          "output_type": "stream",
          "text": [
            "--2019-10-20 22:23:39--  http://fashion-mnist.s3-website.eu-central-1.amazonaws.com/train-images-idx3-ubyte.gz\n",
            "Resolving fashion-mnist.s3-website.eu-central-1.amazonaws.com (fashion-mnist.s3-website.eu-central-1.amazonaws.com)... 52.219.74.66\n",
            "Connecting to fashion-mnist.s3-website.eu-central-1.amazonaws.com (fashion-mnist.s3-website.eu-central-1.amazonaws.com)|52.219.74.66|:80... connected.\n",
            "HTTP request sent, awaiting response... 200 OK\n",
            "Length: 26421880 (25M) [binary/octet-stream]\n",
            "Saving to: ‘train-images-idx3-ubyte.gz’\n",
            "\n",
            "train-images-idx3-u 100%[===================>]  25.20M  13.8MB/s    in 1.8s    \n",
            "\n",
            "2019-10-20 22:23:41 (13.8 MB/s) - ‘train-images-idx3-ubyte.gz’ saved [26421880/26421880]\n",
            "\n",
            "--2019-10-20 22:23:42--  http://fashion-mnist.s3-website.eu-central-1.amazonaws.com/train-labels-idx1-ubyte.gz\n",
            "Resolving fashion-mnist.s3-website.eu-central-1.amazonaws.com (fashion-mnist.s3-website.eu-central-1.amazonaws.com)... 52.219.74.66\n",
            "Connecting to fashion-mnist.s3-website.eu-central-1.amazonaws.com (fashion-mnist.s3-website.eu-central-1.amazonaws.com)|52.219.74.66|:80... connected.\n",
            "HTTP request sent, awaiting response... 200 OK\n",
            "Length: 29515 (29K) [binary/octet-stream]\n",
            "Saving to: ‘train-labels-idx1-ubyte.gz’\n",
            "\n",
            "train-labels-idx1-u 100%[===================>]  28.82K  --.-KB/s    in 0.1s    \n",
            "\n",
            "2019-10-20 22:23:42 (262 KB/s) - ‘train-labels-idx1-ubyte.gz’ saved [29515/29515]\n",
            "\n",
            "--2019-10-20 22:23:43--  http://fashion-mnist.s3-website.eu-central-1.amazonaws.com/t10k-images-idx3-ubyte.gz\n",
            "Resolving fashion-mnist.s3-website.eu-central-1.amazonaws.com (fashion-mnist.s3-website.eu-central-1.amazonaws.com)... 52.219.74.90\n",
            "Connecting to fashion-mnist.s3-website.eu-central-1.amazonaws.com (fashion-mnist.s3-website.eu-central-1.amazonaws.com)|52.219.74.90|:80... connected.\n",
            "HTTP request sent, awaiting response... 200 OK\n",
            "Length: 4422102 (4.2M) [binary/octet-stream]\n",
            "Saving to: ‘t10k-images-idx3-ubyte.gz’\n",
            "\n",
            "t10k-images-idx3-ub 100%[===================>]   4.22M  4.66MB/s    in 0.9s    \n",
            "\n",
            "2019-10-20 22:23:45 (4.66 MB/s) - ‘t10k-images-idx3-ubyte.gz’ saved [4422102/4422102]\n",
            "\n",
            "--2019-10-20 22:23:46--  http://fashion-mnist.s3-website.eu-central-1.amazonaws.com/t10k-labels-idx1-ubyte.gz\n",
            "Resolving fashion-mnist.s3-website.eu-central-1.amazonaws.com (fashion-mnist.s3-website.eu-central-1.amazonaws.com)... 52.219.74.90\n",
            "Connecting to fashion-mnist.s3-website.eu-central-1.amazonaws.com (fashion-mnist.s3-website.eu-central-1.amazonaws.com)|52.219.74.90|:80... connected.\n",
            "HTTP request sent, awaiting response... 200 OK\n",
            "Length: 5148 (5.0K) [binary/octet-stream]\n",
            "Saving to: ‘t10k-labels-idx1-ubyte.gz’\n",
            "\n",
            "t10k-labels-idx1-ub 100%[===================>]   5.03K  --.-KB/s    in 0s      \n",
            "\n",
            "2019-10-20 22:23:46 (267 MB/s) - ‘t10k-labels-idx1-ubyte.gz’ saved [5148/5148]\n",
            "\n"
          ],
          "name": "stdout"
        }
      ]
    },
    {
      "cell_type": "code",
      "metadata": {
        "id": "w6Dy04ZF_xvK",
        "colab_type": "code",
        "colab": {
          "base_uri": "https://localhost:8080/",
          "height": 68
        },
        "outputId": "82879c67-14d3-460f-9f38-1ccf24aac7b1"
      },
      "source": [
        "ls"
      ],
      "execution_count": 60,
      "outputs": [
        {
          "output_type": "stream",
          "text": [
            "\u001b[0m\u001b[01;34mlog\u001b[0m/                       train-images-idx3-ubyte.gz\n",
            "t10k-images-idx3-ubyte.gz  train-labels-idx1-ubyte.gz\n",
            "t10k-labels-idx1-ubyte.gz\n"
          ],
          "name": "stdout"
        }
      ]
    },
    {
      "cell_type": "code",
      "metadata": {
        "id": "HN_WYQQC_-B_",
        "colab_type": "code",
        "colab": {
          "base_uri": "https://localhost:8080/",
          "height": 34
        },
        "outputId": "25974283-f13e-4c07-bcab-517db7b886d6"
      },
      "source": [
        "import PIL\n",
        "print(PIL.PILLOW_VERSION)"
      ],
      "execution_count": 61,
      "outputs": [
        {
          "output_type": "stream",
          "text": [
            "4.3.0\n"
          ],
          "name": "stdout"
        }
      ]
    },
    {
      "cell_type": "code",
      "metadata": {
        "id": "xBm_gmJQARRM",
        "colab_type": "code",
        "colab": {}
      },
      "source": [
        "!pip install -q keras\n",
        "import keras"
      ],
      "execution_count": 0,
      "outputs": []
    },
    {
      "cell_type": "code",
      "metadata": {
        "id": "bHO7nJIUAUgM",
        "colab_type": "code",
        "colab": {}
      },
      "source": [
        "%reload_ext autoreload\n",
        "%autoreload 2\n",
        "%matplotlib inline"
      ],
      "execution_count": 0,
      "outputs": []
    },
    {
      "cell_type": "code",
      "metadata": {
        "id": "SyAMDIClAZXr",
        "colab_type": "code",
        "colab": {}
      },
      "source": [
        "from __future__ import print_function,division\n",
        "from keras.datasets import fashion_mnist\n",
        "from keras.layers import Input, Dense , Reshape , Flatten, Dropout \n",
        "from keras.layers.convolutional import UpSampling2D, Conv2D\n",
        "from keras.models import Sequential, Model\n",
        "from keras.optimizers import Adam \n",
        "from keras.layers import BatchNormalization , Activation , ZeroPadding2D\n",
        "from keras.layers.advanced_activations import LeakyReLU\n",
        "import matplotlib.pyplot as plt\n",
        "import matplotlib.gridspec as gridspec\n",
        "import sys \n",
        "import numpy as np \n",
        "import tensorflow as tf"
      ],
      "execution_count": 0,
      "outputs": []
    },
    {
      "cell_type": "code",
      "metadata": {
        "id": "3qDd5qgiAd1C",
        "colab_type": "code",
        "colab": {
          "base_uri": "https://localhost:8080/",
          "height": 85
        },
        "outputId": "a53e3aec-297c-43ff-fb9e-9397bab8fa02"
      },
      "source": [
        "!mkdir MNIST_Fashion\n",
        "!cp *.gz MNIST_Fashion/\n",
        "from tensorflow.examples.tutorials.mnist import input_data\n",
        "mnist = input_data.read_data_sets(\"MNIST_Fashion/\", one_hot = True)"
      ],
      "execution_count": 65,
      "outputs": [
        {
          "output_type": "stream",
          "text": [
            "Extracting MNIST_Fashion/train-images-idx3-ubyte.gz\n",
            "Extracting MNIST_Fashion/train-labels-idx1-ubyte.gz\n",
            "Extracting MNIST_Fashion/t10k-images-idx3-ubyte.gz\n",
            "Extracting MNIST_Fashion/t10k-labels-idx1-ubyte.gz\n"
          ],
          "name": "stdout"
        }
      ]
    },
    {
      "cell_type": "code",
      "metadata": {
        "id": "b8IHwVqhAshh",
        "colab_type": "code",
        "colab": {}
      },
      "source": [
        "#Training PArams\n",
        "learning_rate = 0.0002\n",
        "batch_size = 128\n",
        "epochs = 100000\n",
        "\n",
        "#Network params\n",
        "image_dim = 784 #img sz is 28x28\n",
        "Y_dimension = 10 # The number of classes\n",
        "gen_hidd_dim = 256\n",
        "disc_hidd_dim  = 256\n",
        "z_noise_dim = 100\n",
        "\n",
        "def xavier_init(shape):\n",
        "  return tf.random_normal(shape = shape, stddev= 1./tf.sqrt(shape[0]/2.0))"
      ],
      "execution_count": 0,
      "outputs": []
    },
    {
      "cell_type": "code",
      "metadata": {
        "id": "umH66z4BAw84",
        "colab_type": "code",
        "colab": {}
      },
      "source": [
        "weights = {\n",
        "    \"disc_H\" : tf.Variable(xavier_init([image_dim + Y_dimension, disc_hidd_dim])),\n",
        "    \"disc_final\": tf.Variable(xavier_init([disc_hidd_dim,1])),\n",
        "    \"gen_H\": tf.Variable(xavier_init([z_noise_dim + Y_dimension, gen_hidd_dim])),\n",
        "    \"gen_final\": tf.Variable(xavier_init([gen_hidd_dim, image_dim]))\n",
        "}\n",
        "\n",
        "bias = {\n",
        "    \"disc_H\" : tf.Variable(xavier_init([disc_hidd_dim])),\n",
        "    \"disc_final\": tf.Variable(xavier_init([1])),\n",
        "    \"gen_H\": tf.Variable(xavier_init([gen_hidd_dim])),\n",
        "    \"gen_final\": tf.Variable(xavier_init([image_dim]))\n",
        "}"
      ],
      "execution_count": 0,
      "outputs": []
    },
    {
      "cell_type": "code",
      "metadata": {
        "id": "m8Ej5vMKA0C3",
        "colab_type": "code",
        "colab": {}
      },
      "source": [
        "#define placeholders for external input\n",
        "\n",
        "z_input = tf.placeholder(tf.float32, shape = [None, z_noise_dim], name = \"input_noise\")\n",
        "x_input = tf.placeholder(tf.float32, shape = [None, image_dim], name = \"real_input\")\n",
        "Y_input = tf.placeholder(tf.float32, shape = [None, Y_dimension], name = \"Labels\")"
      ],
      "execution_count": 0,
      "outputs": []
    },
    {
      "cell_type": "code",
      "metadata": {
        "id": "o7OeoQ4yA3MG",
        "colab_type": "code",
        "colab": {}
      },
      "source": [
        "def Discriminator(x,y):\n",
        "  inputs = tf.concat(axis = 1, values = [x,y])\n",
        "  hidden_layer = tf.nn.relu(tf.add(tf.matmul(inputs, weights[\"disc_H\"]), bias[\"disc_H\"]))\n",
        "  final_layer = (tf.add(tf.matmul(hidden_layer, weights[\"disc_final\"]), bias[\"disc_final\"]))\n",
        "  disc_output = tf.nn.sigmoid(final_layer)\n",
        "  return final_layer, disc_output"
      ],
      "execution_count": 0,
      "outputs": []
    },
    {
      "cell_type": "code",
      "metadata": {
        "id": "rLahcaZ4A_bW",
        "colab_type": "code",
        "colab": {}
      },
      "source": [
        "#Generator NW\n",
        "def Generator(x,y):\n",
        "  inputs = tf.concat(axis = 1, values = [x,y])\n",
        "  hidden_layer = tf.nn.relu(tf.add(tf.matmul(inputs, weights[\"gen_H\"]), bias[\"gen_H\"]))\n",
        "  final_layer = (tf.add(tf.matmul(hidden_layer, weights[\"gen_final\"]), bias[\"gen_final\"]))\n",
        "  gen_output = tf.nn.sigmoid(final_layer)\n",
        "  return gen_output"
      ],
      "execution_count": 0,
      "outputs": []
    },
    {
      "cell_type": "code",
      "metadata": {
        "id": "HFcVezPOBCGt",
        "colab_type": "code",
        "colab": {}
      },
      "source": [
        "# building the GEN NW\n",
        "output_Gen = Generator(z_input, Y_input) #G(z/y)\n",
        " \n",
        " # Building the Disc NW\n",
        "real_output1_Disc, real_output_disc = Discriminator(x_input, Y_input) #implements D(x/y)\n",
        "fake_output1_Disc, fake_output_disc = Discriminator(output_Gen, Y_input) # implements D(G(x/y))"
      ],
      "execution_count": 0,
      "outputs": []
    },
    {
      "cell_type": "code",
      "metadata": {
        "id": "7Ia6whKBBHo8",
        "colab_type": "code",
        "colab": {}
      },
      "source": [
        "#first kind of loss\n",
        "with tf.name_scope(\"Discriminator_Loss\") as scope:\n",
        "  Discriminator_Loss = -tf.reduce_mean(tf.log(real_output_disc+ 0.0001)+tf.log(1.- fake_output_disc+0.0001))\n",
        "  \n",
        "with tf.name_scope(\"Genetator_Loss\") as scope:\n",
        "  Generator_Loss = -tf.reduce_mean(tf.log(fake_output_disc+ 0.0001)) # due to max log(D(G(x)))\n",
        "\n",
        "  # T-board summary\n",
        "  \n",
        "  Disc_loss_total = tf.summary.scalar(\"Disc_Total_loss\", Discriminator_Loss)\n",
        "  Gen_loss_total = tf.summary.scalar(\"Gen_loss\", Generator_Loss)"
      ],
      "execution_count": 0,
      "outputs": []
    },
    {
      "cell_type": "code",
      "metadata": {
        "id": "nuDRJrq0BPnL",
        "colab_type": "code",
        "colab": {}
      },
      "source": [
        "# Define the variables\n",
        "\n",
        "Generator_var = [weights[\"gen_H\"], weights[\"gen_final\"], bias[\"gen_H\"], bias[\"gen_final\"]]\n",
        "Discriminator_var = [weights[\"disc_H\"], weights[\"disc_final\"], bias[\"disc_H\"], bias[\"disc_final\"]]\n",
        "\n",
        "#Define the optimizer\n",
        "with tf.name_scope(\"Optimizer_Discriminator\") as scope:\n",
        "  Discriminator_optimize = tf.train.AdamOptimizer(learning_rate = learning_rate).minimize(Discriminator_Loss, var_list = Discriminator_var)\n",
        "\n",
        "with tf.name_scope(\"Optimizer_Generator\") as scope:\n",
        "  Generator_optimize = tf.train.AdamOptimizer(learning_rate = learning_rate).minimize(Generator_Loss, var_list = Generator_var)"
      ],
      "execution_count": 0,
      "outputs": []
    },
    {
      "cell_type": "code",
      "metadata": {
        "id": "ywUH9GxDBWsK",
        "colab_type": "code",
        "colab": {
          "base_uri": "https://localhost:8080/",
          "height": 867
        },
        "outputId": "b887ce3c-db06-476f-9d49-1cbb8da05f40"
      },
      "source": [
        "# Initialize the variables\n",
        "\n",
        "init = tf.global_variables_initializer()\n",
        "sess = tf.Session()\n",
        "\n",
        "sess.run(init)\n",
        "writer = tf.summary.FileWriter(\"./log\", sess.graph)\n",
        "\n",
        "for epoch in range(epochs):\n",
        "  x_batch, Y_label = mnist.train.next_batch(batch_size)\n",
        "  \n",
        "  #Generate noise to feed Discriminator\n",
        "  z_noise = np.random.uniform(-1.,1.,size = [batch_size, z_noise_dim])\n",
        "  _, Disc_loss_epoch = sess.run([Discriminator_optimize, Discriminator_Loss], feed_dict = {x_input:x_batch, Y_input:Y_label, z_input:z_noise})\n",
        "  _, Gen_loss_epoch = sess.run([Generator_optimize, Generator_Loss], feed_dict = {z_input:z_noise, Y_input:Y_label})  \n",
        "  \n",
        "  #Running the Discriminator summary\n",
        "  summary_Disc_loss = sess.run(Disc_loss_total, feed_dict = {x_input:x_batch, z_input:z_noise, Y_input:Y_label})\n",
        "  # Adding the Discriminator summary\n",
        "  writer.add_summary(summary_Disc_loss, epoch)\n",
        "  \n",
        "  #Running the Generator summary\n",
        "  summary_Gen_loss = sess.run(Gen_loss_total, feed_dict = {z_input:z_noise, Y_input:Y_label})\n",
        "  # Adding the Generator summary\n",
        "  writer.add_summary(summary_Gen_loss, epoch)\n",
        "  \n",
        "  if epoch % 2000 == 0:\n",
        "    print(\"Steps: {0}: Generator Loss: {1}, Discriminator Loss:{2}\".format(epoch, Gen_loss_epoch, Disc_loss_epoch))"
      ],
      "execution_count": 74,
      "outputs": [
        {
          "output_type": "stream",
          "text": [
            "Steps: 0: Generator Loss: 0.880236029624939, Discriminator Loss:1.2647006511688232\n",
            "Steps: 2000: Generator Loss: 3.2460975646972656, Discriminator Loss:0.20096001029014587\n",
            "Steps: 4000: Generator Loss: 3.2115814685821533, Discriminator Loss:0.2543066740036011\n",
            "Steps: 6000: Generator Loss: 2.9050190448760986, Discriminator Loss:0.3248511552810669\n",
            "Steps: 8000: Generator Loss: 3.1347951889038086, Discriminator Loss:0.3147011399269104\n",
            "Steps: 10000: Generator Loss: 3.403919219970703, Discriminator Loss:0.24405437707901\n",
            "Steps: 12000: Generator Loss: 3.126279830932617, Discriminator Loss:0.5258098244667053\n",
            "Steps: 14000: Generator Loss: 2.726548671722412, Discriminator Loss:0.4365506172180176\n",
            "Steps: 16000: Generator Loss: 2.741672992706299, Discriminator Loss:0.42497962713241577\n",
            "Steps: 18000: Generator Loss: 3.2679128646850586, Discriminator Loss:0.39018452167510986\n",
            "Steps: 20000: Generator Loss: 3.45650315284729, Discriminator Loss:0.6351170539855957\n",
            "Steps: 22000: Generator Loss: 2.608977794647217, Discriminator Loss:0.6871399283409119\n",
            "Steps: 24000: Generator Loss: 2.3948984146118164, Discriminator Loss:0.5375866293907166\n",
            "Steps: 26000: Generator Loss: 2.207644462585449, Discriminator Loss:0.6643505096435547\n",
            "Steps: 28000: Generator Loss: 1.8314800262451172, Discriminator Loss:0.6894406080245972\n",
            "Steps: 30000: Generator Loss: 2.1503031253814697, Discriminator Loss:0.6875360608100891\n",
            "Steps: 32000: Generator Loss: 1.898862600326538, Discriminator Loss:0.6609684824943542\n",
            "Steps: 34000: Generator Loss: 2.202815532684326, Discriminator Loss:0.8818501234054565\n",
            "Steps: 36000: Generator Loss: 1.867366909980774, Discriminator Loss:0.6301968693733215\n",
            "Steps: 38000: Generator Loss: 1.4698201417922974, Discriminator Loss:0.8973039984703064\n",
            "Steps: 40000: Generator Loss: 1.7661094665527344, Discriminator Loss:0.8892145156860352\n",
            "Steps: 42000: Generator Loss: 2.174983024597168, Discriminator Loss:0.7541719079017639\n",
            "Steps: 44000: Generator Loss: 1.8272346258163452, Discriminator Loss:0.8903568983078003\n",
            "Steps: 46000: Generator Loss: 1.9607269763946533, Discriminator Loss:0.8319580554962158\n",
            "Steps: 48000: Generator Loss: 1.7130025625228882, Discriminator Loss:1.0983335971832275\n",
            "Steps: 50000: Generator Loss: 1.9890689849853516, Discriminator Loss:0.9607569575309753\n",
            "Steps: 52000: Generator Loss: 1.673050880432129, Discriminator Loss:0.9696972966194153\n",
            "Steps: 54000: Generator Loss: 1.8075366020202637, Discriminator Loss:1.0616910457611084\n",
            "Steps: 56000: Generator Loss: 1.9140870571136475, Discriminator Loss:0.958339512348175\n",
            "Steps: 58000: Generator Loss: 1.616513967514038, Discriminator Loss:1.1555203199386597\n",
            "Steps: 60000: Generator Loss: 1.7233750820159912, Discriminator Loss:0.9413048028945923\n",
            "Steps: 62000: Generator Loss: 1.9519344568252563, Discriminator Loss:1.1314876079559326\n",
            "Steps: 64000: Generator Loss: 1.9853110313415527, Discriminator Loss:1.0714924335479736\n",
            "Steps: 66000: Generator Loss: 1.6548097133636475, Discriminator Loss:1.1417378187179565\n",
            "Steps: 68000: Generator Loss: 1.6675922870635986, Discriminator Loss:1.1198550462722778\n",
            "Steps: 70000: Generator Loss: 1.7273688316345215, Discriminator Loss:1.0851010084152222\n",
            "Steps: 72000: Generator Loss: 1.4034900665283203, Discriminator Loss:1.1175470352172852\n",
            "Steps: 74000: Generator Loss: 1.755749225616455, Discriminator Loss:0.9195238351821899\n",
            "Steps: 76000: Generator Loss: 1.428637146949768, Discriminator Loss:1.225205898284912\n",
            "Steps: 78000: Generator Loss: 1.4553583860397339, Discriminator Loss:1.1051995754241943\n",
            "Steps: 80000: Generator Loss: 1.6331828832626343, Discriminator Loss:1.1472203731536865\n",
            "Steps: 82000: Generator Loss: 1.5222346782684326, Discriminator Loss:1.1910545825958252\n",
            "Steps: 84000: Generator Loss: 1.5368760824203491, Discriminator Loss:1.1568015813827515\n",
            "Steps: 86000: Generator Loss: 1.1188937425613403, Discriminator Loss:1.320594310760498\n",
            "Steps: 88000: Generator Loss: 1.3582717180252075, Discriminator Loss:1.3425014019012451\n",
            "Steps: 90000: Generator Loss: 1.1158628463745117, Discriminator Loss:1.150039792060852\n",
            "Steps: 92000: Generator Loss: 1.3741655349731445, Discriminator Loss:1.0176644325256348\n",
            "Steps: 94000: Generator Loss: 1.31721031665802, Discriminator Loss:1.081169605255127\n",
            "Steps: 96000: Generator Loss: 1.4560766220092773, Discriminator Loss:1.2167298793792725\n",
            "Steps: 98000: Generator Loss: 1.465867519378662, Discriminator Loss:1.2586771249771118\n"
          ],
          "name": "stdout"
        }
      ]
    },
    {
      "cell_type": "code",
      "metadata": {
        "id": "uXdLOy6rBa0p",
        "colab_type": "code",
        "colab": {
          "base_uri": "https://localhost:8080/",
          "height": 119
        },
        "outputId": "ddcd5955-dc95-4b8f-e75a-ee8f28ca7370"
      },
      "source": [
        "print(x_batch.shape)\n",
        "print(x_input.shape)\n",
        "print(Y_input.shape)\n",
        "print(Y_label.shape)\n",
        "print(z_input.shape)\n",
        "print(z_noise.shape)"
      ],
      "execution_count": 75,
      "outputs": [
        {
          "output_type": "stream",
          "text": [
            "(128, 784)\n",
            "(?, 784)\n",
            "(?, 10)\n",
            "(128, 10)\n",
            "(?, 100)\n",
            "(128, 100)\n"
          ],
          "name": "stdout"
        }
      ]
    },
    {
      "cell_type": "code",
      "metadata": {
        "id": "6zn35-0qFoJ1",
        "colab_type": "code",
        "colab": {}
      },
      "source": [
        "def generate_plot(samples):\n",
        "  fig = plt.figure(figsize = (4,4))\n",
        "  gs = gridspec.GridSpec(4,4)\n",
        "  gs.update(wspace = 0.05, hspace = 0.05)\n",
        "  \n",
        "  for i, sample in enumerate(samples):\n",
        "    ax = plt.subplot(gs[i])\n",
        "    plt.axis('off')\n",
        "    ax.set_xticks([])\n",
        "    ax.set_yticks([])\n",
        "    ax.set_aspect('equal')\n",
        "    plt.imshow(sample.reshape(28,28), cmap = 'gray')\n",
        "  return fig"
      ],
      "execution_count": 0,
      "outputs": []
    },
    {
      "cell_type": "code",
      "metadata": {
        "id": "GrrG5iOrFx1S",
        "colab_type": "code",
        "colab": {}
      },
      "source": [
        "def create(inp):\n",
        "  feature_map = { \"t-shirt\":0,\n",
        "                 \"trouser\":1,\n",
        "                 \"pullover\":2,\n",
        "                 \"dress\":3,\n",
        "                 \"coat\":4,\n",
        "                 \"sandal\":5,\n",
        "                 \"sirt\":6,\n",
        "                 \"sneaker\":7,\n",
        "                 \"bag\":8,\n",
        "                 \"ankle boot\": 9\n",
        "                }\n",
        "  samples = 16\n",
        "  z_noise = np.random.uniform(-1.,1.,size = [samples, z_noise_dim])\n",
        "  #one hot encoding\n",
        "  Y_label = np.zeros(shape = [samples, Y_dimension])\n",
        "  Y_label[:, feature_map[inp]] = 1\n",
        "  \n",
        "  # run the traineg generator excluding Discriminator\n",
        "  generated_samples = sess.run(output_Gen, feed_dict = {z_input:z_noise, Y_input:Y_label})\n",
        "  #plot images\n",
        "  \n",
        "  generate_plot(generated_samples)"
      ],
      "execution_count": 0,
      "outputs": []
    },
    {
      "cell_type": "code",
      "metadata": {
        "id": "pMairkaNF1fy",
        "colab_type": "code",
        "colab": {
          "base_uri": "https://localhost:8080/",
          "height": 248
        },
        "outputId": "ded9ca79-3aad-481b-8d46-a8cd5c911896"
      },
      "source": [
        "create(\"coat\")"
      ],
      "execution_count": 78,
      "outputs": [
        {
          "output_type": "display_data",
          "data": {
            "image/png": "[encoded data removed]",
            "text/plain": [
              "<Figure size 288x288 with 16 Axes>"
            ]
          },
          "metadata": {
            "tags": []
          }
        }
      ]
    },
    {
      "cell_type": "code",
      "metadata": {
        "id": "PsRdIPvxF4Ux",
        "colab_type": "code",
        "colab": {
          "base_uri": "https://localhost:8080/",
          "height": 248
        },
        "outputId": "34ae1e1f-05aa-4e8d-bbe1-cda54a4495b2"
      },
      "source": [
        "create(\"sandal\")"
      ],
      "execution_count": 79,
      "outputs": [
        {
          "output_type": "display_data",
          "data": {
            "image/png": "[encoded data removed]",
            "text/plain": [
              "<Figure size 288x288 with 16 Axes>"
            ]
          },
          "metadata": {
            "tags": []
          }
        }
      ]
    },
    {
      "cell_type": "code",
      "metadata": {
        "id": "jxg_Ls0cGBB_",
        "colab_type": "code",
        "colab": {
          "base_uri": "https://localhost:8080/",
          "height": 248
        },
        "outputId": "9ef8356b-a1d4-4443-efa6-3fb018be2aa7"
      },
      "source": [
        "create(\"sneaker\")"
      ],
      "execution_count": 80,
      "outputs": [
        {
          "output_type": "display_data",
          "data": {
            "image/png": "[encoded data removed]",
            "text/plain": [
              "<Figure size 288x288 with 16 Axes>"
            ]
          },
          "metadata": {
            "tags": []
          }
        }
      ]
    },
    {
      "cell_type": "code",
      "metadata": {
        "id": "CC8Z0RdYGJeP",
        "colab_type": "code",
        "colab": {
          "base_uri": "https://localhost:8080/",
          "height": 248
        },
        "outputId": "e2a20d4a-d4c3-4b39-d837-9d0ade55c4dd"
      },
      "source": [
        "create('trouser')"
      ],
      "execution_count": 81,
      "outputs": [
        {
          "output_type": "display_data",
          "data": {
            "image/png": "[encoded data removed]",
            "text/plain": [
              "<Figure size 288x288 with 16 Axes>"
            ]
          },
          "metadata": {
            "tags": []
          }
        }
      ]
    },
    {
      "cell_type": "code",
      "metadata": {
        "id": "oqMOsAOfGQdU",
        "colab_type": "code",
        "colab": {
          "base_uri": "https://localhost:8080/",
          "height": 248
        },
        "outputId": "c49be651-db95-4dc2-9db4-982ea10e2942"
      },
      "source": [
        "create('t-shirt')"
      ],
      "execution_count": 82,
      "outputs": [
        {
          "output_type": "display_data",
          "data": {
            "image/png": "[encoded data removed]",
            "text/plain": [
              "<Figure size 288x288 with 16 Axes>"
            ]
          },
          "metadata": {
            "tags": []
          }
        }
      ]
    },
    {
      "cell_type": "code",
      "metadata": {
        "id": "0l_geIQ_U4YJ",
        "colab_type": "code",
        "colab": {}
      },
      "source": [
        ""
      ],
      "execution_count": 0,
      "outputs": []
    }
  ]
}