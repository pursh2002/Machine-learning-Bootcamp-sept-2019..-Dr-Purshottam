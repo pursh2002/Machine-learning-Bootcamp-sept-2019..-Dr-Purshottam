{
  "nbformat": 4,
  "nbformat_minor": 0,
  "metadata": {
    "colab": {
      "name": "fraud_detection_with_Kaggle_creditcard_dataset.ipynb",
      "version": "0.3.2",
      "provenance": [],
      "include_colab_link": true
    },
    "kernelspec": {
      "name": "python3",
      "display_name": "Python 3"
    }
  },
  "cells": [
    {
      "cell_type": "markdown",
      "metadata": {
        "id": "view-in-github",
        "colab_type": "text"
      },
      "source": [
        "<a href=\"https://colab.research.google.com/github/pursh2002/Machine-learning-with-Siraj-Raval-sept-2019..-Dr-Purshottam/blob/master/fraud_detection_with_Kaggle_creditcard_dataset.ipynb\" target=\"_parent\"><img src=\"https://colab.research.google.com/assets/colab-badge.svg\" alt=\"Open In Colab\"/></a>"
      ]
    },
    {
      "cell_type": "code",
      "metadata": {
        "id": "B0PDYsLDZMgv",
        "colab_type": "code",
        "colab": {}
      },
      "source": [
        "## Kaggle Creditcard Data Set on fraud detection\n",
        "#Explore the dataset/visualize \n",
        "#Decide which features are important \n",
        "#Perfom Machine Learning on credit card data set \n",
        "#Test the model "
      ],
      "execution_count": 0,
      "outputs": []
    },
    {
      "cell_type": "code",
      "metadata": {
        "id": "fvWeJBZr8lDz",
        "colab_type": "code",
        "colab": {}
      },
      "source": [
        "import numpy as np \n",
        "import pandas as pd \n",
        "import sklearn as np \n",
        "import pandas as pd \n",
        "import matplotlib.pyplot as plt \n",
        "from sklearn.preprocessing import scale \n",
        "import random \n"
      ],
      "execution_count": 0,
      "outputs": []
    },
    {
      "cell_type": "code",
      "metadata": {
        "id": "LNALAyCxBSFt",
        "colab_type": "code",
        "colab": {}
      },
      "source": [
        ""
      ],
      "execution_count": 0,
      "outputs": []
    },
    {
      "cell_type": "code",
      "metadata": {
        "id": "SkJtV17D9B2R",
        "colab_type": "code",
        "colab": {}
      },
      "source": [
        "df = pd.read_csv('creditcard.csv',low_memory = False)\n",
        "df = df.sample(frac=1).reset_index(drop = True)\n"
      ],
      "execution_count": 0,
      "outputs": []
    },
    {
      "cell_type": "code",
      "metadata": {
        "id": "Va8fK8OYBWOK",
        "colab_type": "code",
        "colab": {
          "base_uri": "https://localhost:8080/",
          "height": 193
        },
        "outputId": "c4950c1e-b488-4243-c0e8-bc3302dc2470"
      },
      "source": [
        "df.head(4) "
      ],
      "execution_count": 48,
      "outputs": [
        {
          "output_type": "execute_result",
          "data": {
            "text/html": [
              "<div>\n",
              "<style scoped>\n",
              "    .dataframe tbody tr th:only-of-type {\n",
              "        vertical-align: middle;\n",
              "    }\n",
              "\n",
              "    .dataframe tbody tr th {\n",
              "        vertical-align: top;\n",
              "    }\n",
              "\n",
              "    .dataframe thead th {\n",
              "        text-align: right;\n",
              "    }\n",
              "</style>\n",
              "<table border=\"1\" class=\"dataframe\">\n",
              "  <thead>\n",
              "    <tr style=\"text-align: right;\">\n",
              "      <th></th>\n",
              "      <th>Time</th>\n",
              "      <th>V1</th>\n",
              "      <th>V2</th>\n",
              "      <th>V3</th>\n",
              "      <th>V4</th>\n",
              "      <th>V5</th>\n",
              "      <th>V6</th>\n",
              "      <th>V7</th>\n",
              "      <th>V8</th>\n",
              "      <th>V9</th>\n",
              "      <th>V10</th>\n",
              "      <th>V11</th>\n",
              "      <th>V12</th>\n",
              "      <th>V13</th>\n",
              "      <th>V14</th>\n",
              "      <th>V15</th>\n",
              "      <th>V16</th>\n",
              "      <th>V17</th>\n",
              "      <th>V18</th>\n",
              "      <th>V19</th>\n",
              "      <th>V20</th>\n",
              "      <th>V21</th>\n",
              "      <th>V22</th>\n",
              "      <th>V23</th>\n",
              "      <th>V24</th>\n",
              "      <th>V25</th>\n",
              "      <th>V26</th>\n",
              "      <th>V27</th>\n",
              "      <th>V28</th>\n",
              "      <th>Amount</th>\n",
              "      <th>Class</th>\n",
              "    </tr>\n",
              "  </thead>\n",
              "  <tbody>\n",
              "    <tr>\n",
              "      <th>0</th>\n",
              "      <td>78237.0</td>\n",
              "      <td>-3.239693</td>\n",
              "      <td>1.379124</td>\n",
              "      <td>0.170645</td>\n",
              "      <td>1.293102</td>\n",
              "      <td>-0.337681</td>\n",
              "      <td>1.352578</td>\n",
              "      <td>-0.920910</td>\n",
              "      <td>1.092263</td>\n",
              "      <td>0.290623</td>\n",
              "      <td>0.603169</td>\n",
              "      <td>0.351821</td>\n",
              "      <td>1.230836</td>\n",
              "      <td>0.780591</td>\n",
              "      <td>0.189421</td>\n",
              "      <td>1.654870</td>\n",
              "      <td>-1.614690</td>\n",
              "      <td>1.583594</td>\n",
              "      <td>-1.992183</td>\n",
              "      <td>-0.809759</td>\n",
              "      <td>-1.031199</td>\n",
              "      <td>0.387843</td>\n",
              "      <td>1.254081</td>\n",
              "      <td>0.585188</td>\n",
              "      <td>-0.607481</td>\n",
              "      <td>-1.070338</td>\n",
              "      <td>-0.404896</td>\n",
              "      <td>-1.899246</td>\n",
              "      <td>0.229289</td>\n",
              "      <td>0.76</td>\n",
              "      <td>0</td>\n",
              "    </tr>\n",
              "    <tr>\n",
              "      <th>1</th>\n",
              "      <td>27689.0</td>\n",
              "      <td>1.444220</td>\n",
              "      <td>-1.639121</td>\n",
              "      <td>1.047086</td>\n",
              "      <td>-1.155815</td>\n",
              "      <td>-1.746005</td>\n",
              "      <td>0.995677</td>\n",
              "      <td>-1.885235</td>\n",
              "      <td>0.240987</td>\n",
              "      <td>-0.367576</td>\n",
              "      <td>1.032905</td>\n",
              "      <td>-2.517582</td>\n",
              "      <td>-0.470964</td>\n",
              "      <td>1.270585</td>\n",
              "      <td>-1.756390</td>\n",
              "      <td>-1.502657</td>\n",
              "      <td>-0.572514</td>\n",
              "      <td>0.603758</td>\n",
              "      <td>0.342745</td>\n",
              "      <td>0.745441</td>\n",
              "      <td>-0.203740</td>\n",
              "      <td>-0.290315</td>\n",
              "      <td>-0.054601</td>\n",
              "      <td>-0.222401</td>\n",
              "      <td>-0.956829</td>\n",
              "      <td>0.564642</td>\n",
              "      <td>0.029199</td>\n",
              "      <td>0.106698</td>\n",
              "      <td>0.026257</td>\n",
              "      <td>44.50</td>\n",
              "      <td>0</td>\n",
              "    </tr>\n",
              "    <tr>\n",
              "      <th>2</th>\n",
              "      <td>36187.0</td>\n",
              "      <td>1.148523</td>\n",
              "      <td>-0.747104</td>\n",
              "      <td>-0.436115</td>\n",
              "      <td>-0.355519</td>\n",
              "      <td>-0.282789</td>\n",
              "      <td>-0.232817</td>\n",
              "      <td>0.072919</td>\n",
              "      <td>-0.247225</td>\n",
              "      <td>-1.120939</td>\n",
              "      <td>0.642897</td>\n",
              "      <td>-1.581368</td>\n",
              "      <td>-0.241336</td>\n",
              "      <td>1.007741</td>\n",
              "      <td>0.137755</td>\n",
              "      <td>0.867343</td>\n",
              "      <td>-0.871771</td>\n",
              "      <td>-0.597837</td>\n",
              "      <td>0.894977</td>\n",
              "      <td>-0.191003</td>\n",
              "      <td>-0.087253</td>\n",
              "      <td>-0.848119</td>\n",
              "      <td>-2.406074</td>\n",
              "      <td>0.018798</td>\n",
              "      <td>-1.069285</td>\n",
              "      <td>0.098334</td>\n",
              "      <td>0.045109</td>\n",
              "      <td>-0.057530</td>\n",
              "      <td>0.038298</td>\n",
              "      <td>177.00</td>\n",
              "      <td>0</td>\n",
              "    </tr>\n",
              "    <tr>\n",
              "      <th>3</th>\n",
              "      <td>160615.0</td>\n",
              "      <td>0.055875</td>\n",
              "      <td>0.091806</td>\n",
              "      <td>0.534540</td>\n",
              "      <td>-1.221675</td>\n",
              "      <td>-0.561279</td>\n",
              "      <td>-0.706589</td>\n",
              "      <td>0.520462</td>\n",
              "      <td>-0.137130</td>\n",
              "      <td>-0.526126</td>\n",
              "      <td>0.095111</td>\n",
              "      <td>-1.527973</td>\n",
              "      <td>-0.925485</td>\n",
              "      <td>-1.300507</td>\n",
              "      <td>0.211432</td>\n",
              "      <td>-0.027629</td>\n",
              "      <td>-1.426323</td>\n",
              "      <td>-0.237109</td>\n",
              "      <td>0.985280</td>\n",
              "      <td>-0.687198</td>\n",
              "      <td>-0.713848</td>\n",
              "      <td>-0.779013</td>\n",
              "      <td>-1.853516</td>\n",
              "      <td>0.349210</td>\n",
              "      <td>-0.283398</td>\n",
              "      <td>-0.876615</td>\n",
              "      <td>-0.942531</td>\n",
              "      <td>-0.012373</td>\n",
              "      <td>0.043478</td>\n",
              "      <td>62.85</td>\n",
              "      <td>0</td>\n",
              "    </tr>\n",
              "  </tbody>\n",
              "</table>\n",
              "</div>"
            ],
            "text/plain": [
              "       Time        V1        V2        V3  ...       V27       V28  Amount  Class\n",
              "0   78237.0 -3.239693  1.379124  0.170645  ... -1.899246  0.229289    0.76      0\n",
              "1   27689.0  1.444220 -1.639121  1.047086  ...  0.106698  0.026257   44.50      0\n",
              "2   36187.0  1.148523 -0.747104 -0.436115  ... -0.057530  0.038298  177.00      0\n",
              "3  160615.0  0.055875  0.091806  0.534540  ... -0.012373  0.043478   62.85      0\n",
              "\n",
              "[4 rows x 31 columns]"
            ]
          },
          "metadata": {
            "tags": []
          },
          "execution_count": 48
        }
      ]
    },
    {
      "cell_type": "code",
      "metadata": {
        "id": "d4N7gcsUBj2g",
        "colab_type": "code",
        "colab": {
          "base_uri": "https://localhost:8080/",
          "height": 51
        },
        "outputId": "27c93749-d123-42ba-be67-710a2232e1d8"
      },
      "source": [
        "fraud = df.loc[df['Class'] == 1] # partition the data  \n",
        "non_fraud = df.loc[df['Class'] == 0]\n",
        "print(len(fraud))\n",
        "print(len(non_fraud))"
      ],
      "execution_count": 49,
      "outputs": [
        {
          "output_type": "stream",
          "text": [
            "492\n",
            "284315\n"
          ],
          "name": "stdout"
        }
      ]
    },
    {
      "cell_type": "code",
      "metadata": {
        "id": "l7RP9MYWF_Zg",
        "colab_type": "code",
        "colab": {
          "base_uri": "https://localhost:8080/",
          "height": 283
        },
        "outputId": "6c17c333-c3f6-498d-d63f-bfd700364ef9"
      },
      "source": [
        "ax = fraud.plot.scatter(x ='Amount', y ='Class', color ='Orange', label = 'Fraud')\n",
        "non_fraud.plot.scatter(x ='Amount', y ='Class', color ='Blue',label='Normal', ax = ax)\n",
        "plt.show()"
      ],
      "execution_count": 50,
      "outputs": [
        {
          "output_type": "display_data",
          "data": {
            "image/png": "[encoded data removed]",
            "text/plain": [
              "<Figure size 432x288 with 1 Axes>"
            ]
          },
          "metadata": {
            "tags": []
          }
        }
      ]
    },
    {
      "cell_type": "code",
      "metadata": {
        "id": "PQF0wdooKY93",
        "colab_type": "code",
        "colab": {}
      },
      "source": [
        "from sklearn import linear_model\n",
        "from sklearn.model_selection import train_test_split "
      ],
      "execution_count": 0,
      "outputs": []
    },
    {
      "cell_type": "code",
      "metadata": {
        "id": "JSFSQEyiNcnc",
        "colab_type": "code",
        "colab": {}
      },
      "source": [
        "x = df.iloc[:,:-1]\n",
        "y = df['Class']\n",
        "X_train,X_test,y_train,y_test = train_test_split(x,y,test_size = 0.35)"
      ],
      "execution_count": 0,
      "outputs": []
    },
    {
      "cell_type": "code",
      "metadata": {
        "id": "N1pv4rjgONQQ",
        "colab_type": "code",
        "colab": {
          "base_uri": "https://localhost:8080/",
          "height": 88
        },
        "outputId": "65572995-04de-4daa-d94d-fbfe91db9f0c"
      },
      "source": [
        "logistic = linear_model.LogisticRegression(C = 1e5) #1e5 is ,100000 c is penealty to disincentivize and regulate overfitting \n",
        "logistic.fit(X_train,y_train)\n",
        "print('Score:',logistic.score(X_test,y_test))"
      ],
      "execution_count": 58,
      "outputs": [
        {
          "output_type": "stream",
          "text": [
            "/usr/local/lib/python3.6/dist-packages/sklearn/linear_model/logistic.py:432: FutureWarning: Default solver will be changed to 'lbfgs' in 0.22. Specify a solver to silence this warning.\n",
            "  FutureWarning)\n"
          ],
          "name": "stderr"
        },
        {
          "output_type": "stream",
          "text": [
            "Score: 0.9991673605328892\n"
          ],
          "name": "stdout"
        }
      ]
    },
    {
      "cell_type": "code",
      "metadata": {
        "id": "KvYRoOtjRvJv",
        "colab_type": "code",
        "colab": {
          "base_uri": "https://localhost:8080/",
          "height": 34
        },
        "outputId": "c1eb27c5-ba63-419c-dd73-3ee5f0a0692a"
      },
      "source": [
        "import numpy as np\n",
        "y_predicted = np.array(logistic.predict(X_test))\n",
        "y_predicted\n"
      ],
      "execution_count": 60,
      "outputs": [
        {
          "output_type": "execute_result",
          "data": {
            "text/plain": [
              "array([0, 0, 0, ..., 0, 0, 0])"
            ]
          },
          "metadata": {
            "tags": []
          },
          "execution_count": 60
        }
      ]
    },
    {
      "cell_type": "markdown",
      "metadata": {
        "id": "RvMuoLbUAbSd",
        "colab_type": "text"
      },
      "source": [
        "# New Section"
      ]
    },
    {
      "cell_type": "markdown",
      "metadata": {
        "id": "_3LNfLNfAb5N",
        "colab_type": "text"
      },
      "source": [
        "# New Section"
      ]
    },
    {
      "cell_type": "code",
      "metadata": {
        "id": "5XMLPtwIAuU4",
        "colab_type": "code",
        "colab": {}
      },
      "source": [
        "from google.colab import drive\n",
        "drive.mount('/content/drive')"
      ],
      "execution_count": 0,
      "outputs": []
    }
  ]
}